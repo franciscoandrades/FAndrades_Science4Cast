{
 "cells": [
  {
   "cell_type": "markdown",
   "metadata": {
    "papermill": {
     "duration": 0.014486,
     "end_time": "2021-11-25T14:25:38.734870",
     "exception": false,
     "start_time": "2021-11-25T14:25:38.720384",
     "status": "completed"
    },
    "tags": []
   },
   "source": [
    "# Training GNN\n",
    "\n"
   ]
  },
  {
   "cell_type": "code",
   "execution_count": null,
   "metadata": {
    "_cell_guid": "b1076dfc-b9ad-4769-8c92-a6c4dae69d19",
    "_uuid": "8f2839f25d086af736a60e9eeb907d3b93b6e0e5",
    "execution": {
     "iopub.execute_input": "2021-11-25T14:25:38.767554Z",
     "iopub.status.busy": "2021-11-25T14:25:38.765798Z",
     "iopub.status.idle": "2021-11-25T14:25:56.553963Z",
     "shell.execute_reply": "2021-11-25T14:25:56.553223Z",
     "shell.execute_reply.started": "2021-11-24T01:02:59.894268Z"
    },
    "papermill": {
     "duration": 17.806076,
     "end_time": "2021-11-25T14:25:56.554136",
     "exception": false,
     "start_time": "2021-11-25T14:25:38.748060",
     "status": "completed"
    },
    "tags": []
   },
   "outputs": [],
   "source": [
    "%%capture\n",
    "import pandas as pd\n",
    "import numpy as np\n",
    "import scipy\n",
    "from scipy.sparse.csgraph import shortest_path\n",
    "import seaborn as sns\n",
    "from matplotlib import pyplot as plt\n",
    "import pickle\n",
    "import json\n",
    "import math\n",
    "from numpy import ma\n",
    "from glob import glob\n",
    "from scipy.sparse import load_npz\n",
    "\n",
    "from sklearn.model_selection import train_test_split\n",
    "\n",
    "import tensorflow as tf\n",
    "from tensorflow import keras\n",
    "from tensorflow.keras.utils import Sequence\n",
    "from tensorflow.keras.models import Model\n",
    "from tensorflow.keras.layers import Dense, Dropout,BatchNormalization,Conv1D,MaxPool1D,Flatten\n",
    "\n",
    "import torch\n",
    "\n",
    "!pip install spektral\n",
    "import spektral\n",
    "from spektral.layers import GCNConv, GlobalSumPool,GraphSageConv,GeneralConv\n",
    "from spektral.data import Dataset, DisjointLoader, Graph\n",
    "from spektral.layers import GCSConv, GlobalAvgPool,SortPool\n",
    "from spektral.layers.pooling import TopKPool\n",
    "from spektral.transforms.normalize_adj import NormalizeAdj\n",
    "from spektral.transforms import GCNFilter\n",
    "\n",
    "\n",
    "path = 'data_test/'\n"
   ]
  },
  {
   "cell_type": "code",
   "execution_count": null,
   "metadata": {
    "execution": {
     "iopub.execute_input": "2021-11-25T14:25:56.587431Z",
     "iopub.status.busy": "2021-11-25T14:25:56.586789Z",
     "iopub.status.idle": "2021-11-25T14:25:56.589677Z",
     "shell.execute_reply": "2021-11-25T14:25:56.589184Z",
     "shell.execute_reply.started": "2021-11-24T01:03:18.25722Z"
    },
    "papermill": {
     "duration": 0.021584,
     "end_time": "2021-11-25T14:25:56.589813",
     "exception": false,
     "start_time": "2021-11-25T14:25:56.568229",
     "status": "completed"
    },
    "tags": []
   },
   "outputs": [],
   "source": [
    "def func_aux(codigo):\n",
    "    return int(codigo.split('/')[-1].split('_')[0])"
   ]
  },
  {
   "cell_type": "code",
   "execution_count": null,
   "metadata": {
    "execution": {
     "iopub.execute_input": "2021-11-25T14:25:56.626274Z",
     "iopub.status.busy": "2021-11-25T14:25:56.625538Z",
     "iopub.status.idle": "2021-11-25T14:25:56.628829Z",
     "shell.execute_reply": "2021-11-25T14:25:56.629294Z",
     "shell.execute_reply.started": "2021-11-24T01:03:18.264329Z"
    },
    "papermill": {
     "duration": 0.026074,
     "end_time": "2021-11-25T14:25:56.629462",
     "exception": false,
     "start_time": "2021-11-25T14:25:56.603388",
     "status": "completed"
    },
    "tags": []
   },
   "outputs": [],
   "source": [
    "\n",
    "# leyendo datos de train\n",
    "matrices_entrenamiento = glob(path+'train/kaggle/working/train/*')\n",
    "matrices_entrenamiento.sort(key=func_aux)\n",
    "targets_entrenamiento = np.load(path+'targets_train.npy')\n",
    "len(matrices_entrenamiento),len(targets_entrenamiento)\n",
    "matrices_adj = matrices_entrenamiento[0::2]\n",
    "matrices_x = matrices_entrenamiento[1::2]\n"
   ]
  },
  {
   "cell_type": "code",
   "execution_count": null,
   "metadata": {
    "execution": {
     "iopub.execute_input": "2021-11-25T14:25:56.663159Z",
     "iopub.status.busy": "2021-11-25T14:25:56.662152Z",
     "iopub.status.idle": "2021-11-25T14:25:56.665598Z",
     "shell.execute_reply": "2021-11-25T14:25:56.666086Z",
     "shell.execute_reply.started": "2021-11-24T01:03:18.533976Z"
    },
    "papermill": {
     "duration": 0.022993,
     "end_time": "2021-11-25T14:25:56.666255",
     "exception": false,
     "start_time": "2021-11-25T14:25:56.643262",
     "status": "completed"
    },
    "tags": []
   },
   "outputs": [],
   "source": [
    "for cont,elem in enumerate(matrices_adj):\n",
    "    if elem.split('/')[-1].split('_')[1] == 'x':\n",
    "        matrices_adj[cont],matrices_x[cont] = matrices_x[cont],matrices_adj[cont]\n",
    "        \n"
   ]
  },
  {
   "cell_type": "code",
   "execution_count": null,
   "metadata": {
    "execution": {
     "iopub.execute_input": "2021-11-25T14:25:56.698021Z",
     "iopub.status.busy": "2021-11-25T14:25:56.697403Z",
     "iopub.status.idle": "2021-11-25T14:25:56.702086Z",
     "shell.execute_reply": "2021-11-25T14:25:56.702656Z",
     "shell.execute_reply.started": "2021-11-24T01:03:18.552277Z"
    },
    "papermill": {
     "duration": 0.021884,
     "end_time": "2021-11-25T14:25:56.702837",
     "exception": false,
     "start_time": "2021-11-25T14:25:56.680953",
     "status": "completed"
    },
    "tags": []
   },
   "outputs": [],
   "source": [
    "matrices_adj_train , matrices_adj_val,matrices_x_train,matrices_x_val, y_train, y_val = train_test_split(matrices_adj,matrices_x,\n",
    "                                                                                         targets_entrenamiento,test_size=0.1,\n",
    "                                                                                         random_state=0,shuffle=True,\n",
    "                                                                                         stratify=targets_entrenamiento)\n",
    "                                      "
   ]
  },
  {
   "cell_type": "code",
   "execution_count": null,
   "metadata": {
    "execution": {
     "iopub.execute_input": "2021-11-25T14:25:56.734766Z",
     "iopub.status.busy": "2021-11-25T14:25:56.734144Z",
     "iopub.status.idle": "2021-11-25T14:25:56.743891Z",
     "shell.execute_reply": "2021-11-25T14:25:56.744418Z",
     "shell.execute_reply.started": "2021-11-24T01:03:18.650301Z"
    },
    "papermill": {
     "duration": 0.027203,
     "end_time": "2021-11-25T14:25:56.744589",
     "exception": false,
     "start_time": "2021-11-25T14:25:56.717386",
     "status": "completed"
    },
    "tags": []
   },
   "outputs": [],
   "source": [
    "class Custom_Sequence(Sequence):\n",
    "    def __init__(self, adj_set,x_set, y_set, batch_size):\n",
    "        self.adj,self.x, self.y =adj_set, x_set, y_set\n",
    "        self.batch_size = batch_size\n",
    "        \n",
    "    def __len__(self):\n",
    "        return math.ceil(len(self.x) / self.batch_size)\n",
    "\n",
    "    def __getitem__(self, idx):\n",
    "        \n",
    "        batch_adj = self.adj[idx * self.batch_size:(idx + 1) *\n",
    "        self.batch_size]\n",
    "        \n",
    "        batch_x = self.x[idx * self.batch_size:(idx + 1) *\n",
    "        self.batch_size]\n",
    "\n",
    "        batch_y = self.y[idx * self.batch_size:(idx + 1) *\n",
    "            self.batch_size]\n",
    "        \n",
    "        \n",
    "        subgraph = load_npz(batch_adj[0])\n",
    "        a = subgraph.toarray()\n",
    "        \n",
    "        dists = np.load(batch_x[0]).reshape(-1,1)\n",
    "        spektral.utils.one_hot(dists, 10)\n",
    "        graph = Graph(x=dists, a=a, y=batch_y[0])\n",
    "        \n",
    "        graph = GCNFilter()(graph)\n",
    "        \n",
    "        batch = ((graph.x,graph.a),np.array(graph.y).reshape(-1,1))\n",
    "        \n",
    "        return batch\n",
    "    \n",
    "    "
   ]
  },
  {
   "cell_type": "code",
   "execution_count": null,
   "metadata": {
    "execution": {
     "iopub.execute_input": "2021-11-25T14:25:56.776493Z",
     "iopub.status.busy": "2021-11-25T14:25:56.775881Z",
     "iopub.status.idle": "2021-11-25T14:25:56.780027Z",
     "shell.execute_reply": "2021-11-25T14:25:56.780605Z",
     "shell.execute_reply.started": "2021-11-24T01:03:18.692486Z"
    },
    "papermill": {
     "duration": 0.02173,
     "end_time": "2021-11-25T14:25:56.780783",
     "exception": false,
     "start_time": "2021-11-25T14:25:56.759053",
     "status": "completed"
    },
    "tags": []
   },
   "outputs": [],
   "source": [
    "train_iterator = Custom_Sequence(matrices_adj_train[:9000],matrices_x_train[:9000],y_train[:9000],1)\n",
    "validation_iterator = Custom_Sequence(matrices_adj_val[:1000],matrices_x_val[:1000],y_val[:1000],1)"
   ]
  },
  {
   "cell_type": "code",
   "execution_count": null,
   "metadata": {
    "execution": {
     "iopub.execute_input": "2021-11-25T14:25:56.813686Z",
     "iopub.status.busy": "2021-11-25T14:25:56.813006Z",
     "iopub.status.idle": "2021-11-25T14:25:56.819740Z",
     "shell.execute_reply": "2021-11-25T14:25:56.820320Z",
     "shell.execute_reply.started": "2021-11-24T03:40:48.676661Z"
    },
    "papermill": {
     "duration": 0.024934,
     "end_time": "2021-11-25T14:25:56.820493",
     "exception": false,
     "start_time": "2021-11-25T14:25:56.795559",
     "status": "completed"
    },
    "tags": []
   },
   "outputs": [],
   "source": [
    "from tensorflow.keras import backend as K\n",
    "class MyGNN(Model):\n",
    "    def __init__(self, n_labels):\n",
    "        super().__init__()\n",
    "        self.graph_conv = GCNConv(128,activation='tanh')\n",
    "        self.graph_conv2 = GCNConv(128,activation='tanh')\n",
    "        self.graph_conv3 = GCNConv(128,activation='tanh')\n",
    "        self.graph_conv4 = GCNConv(128,activation='tanh')\n",
    "        self.graph_conv5 = GCNConv(1,activation='tanh')\n",
    "\n",
    "        self.pool = SortPool(400)\n",
    "        \n",
    "        self.conv1 = Conv1D(filters=64, kernel_size=sum([128,128,128,128,1]), \n",
    "                            strides=sum([128,128,128,128,1]))\n",
    "        self.conv2 = Conv1D(filters=128, kernel_size=5, strides=1)\n",
    "        self.conv3 = Conv1D(filters=128, kernel_size=5, strides=1)\n",
    "        self.conv4 = Conv1D(filters=64, kernel_size=5, strides=1)\n",
    "        \n",
    "\n",
    "        self.maxpool= MaxPool1D(pool_size=2)\n",
    "        self.flatten = Flatten()\n",
    "        self.dense1 = Dense(units=256, activation=\"relu\")\n",
    "        self.densex1 = Dense(units=128, activation=\"relu\")\n",
    "\n",
    "\n",
    "        self.dense2 = Dense(units=1, activation=\"sigmoid\")\n",
    "        \n",
    "\n",
    "    def call(self, inputs):\n",
    "        x,a = inputs\n",
    "        \n",
    "        a = tf.sparse.from_dense(a)\n",
    "        \n",
    "        x1 = self.graph_conv([x,a])\n",
    "        x2 = self.graph_conv2([x1,a])\n",
    "        x3 = self.graph_conv3([x2,a])\n",
    "        x4 = self.graph_conv4([x3,a])\n",
    "        x5 = self.graph_conv5([x4,a])\n",
    "        \n",
    "        x = tf.concat([x1,x2,x3,x4,x5], axis=-1)\n",
    "        \n",
    "        out = self.pool(x)\n",
    "        \n",
    "        out = tf.reshape(\n",
    "               out, [1, out.shape[-1] * out.shape[0], 1]\n",
    "            )\n",
    "        \n",
    "        x_out = self.conv1(out)\n",
    "        x_out = self.conv2(x_out)\n",
    "        x_out = self.maxpool(x_out)\n",
    "        x_out = self.conv3(x_out)\n",
    "        x_out = self.conv4(x_out)\n",
    "        x_out = self.flatten(x_out)\n",
    "        \n",
    "        x_out = self.dense1(x_out)\n",
    "        x_out = self.densex1(x_out)\n",
    "        predictions = self.dense2(x_out)\n",
    "\n",
    "        return predictions\n",
    "model = MyGNN(1)\n",
    "model.compile(tf.keras.optimizers.Nadam(learning_rate=0.00001),\n",
    "              'binary_crossentropy',metrics='accuracy')"
   ]
  },
  {
   "cell_type": "code",
   "execution_count": null,
   "metadata": {
    "execution": {
     "iopub.execute_input": "2021-11-25T14:25:56.855284Z",
     "iopub.status.busy": "2021-11-25T14:25:56.854590Z",
     "iopub.status.idle": "2021-11-25T14:25:56.859225Z",
     "shell.execute_reply": "2021-11-25T14:25:56.859841Z",
     "shell.execute_reply.started": "2021-11-24T03:40:49.953228Z"
    },
    "papermill": {
     "duration": 0.024358,
     "end_time": "2021-11-25T14:25:56.860005",
     "exception": false,
     "start_time": "2021-11-25T14:25:56.835647",
     "status": "completed"
    },
    "tags": []
   },
   "outputs": [],
   "source": [
    "STEP_SIZE_TRAIN=train_iterator.__len__()\n",
    "STEP_SIZE_VALID=validation_iterator.__len__()\n",
    "\n",
    "history = model.fit(x=train_iterator,\n",
    "                        steps_per_epoch=STEP_SIZE_TRAIN,\n",
    "                        validation_data=validation_iterator,\n",
    "                        validation_steps=STEP_SIZE_VALID,\n",
    "                        epochs=5,verbose = 1)\n",
    "\n",
    "plt.plot(history.history['loss'])\n",
    "plt.plot(history.history['val_loss'])\n",
    "plt.title('Model loss')\n",
    "plt.ylabel('binary_crossentropy')\n",
    "plt.xlabel('epoch')\n",
    "plt.legend(['train', 'val'], loc='upper left')\n",
    "plt.show()"
   ]
  },
  {
   "cell_type": "code",
   "execution_count": null,
   "metadata": {
    "execution": {
     "iopub.execute_input": "2021-11-25T14:25:56.894123Z",
     "iopub.status.busy": "2021-11-25T14:25:56.893493Z",
     "iopub.status.idle": "2021-11-25T14:25:56.899118Z",
     "shell.execute_reply": "2021-11-25T14:25:56.899703Z",
     "shell.execute_reply.started": "2021-11-21T08:52:51.226855Z"
    },
    "papermill": {
     "duration": 0.024393,
     "end_time": "2021-11-25T14:25:56.899865",
     "exception": false,
     "start_time": "2021-11-25T14:25:56.875472",
     "status": "completed"
    },
    "tags": []
   },
   "outputs": [],
   "source": [
    "\n",
    "def calculate_ROC(data_vertex_pairs,data_solution):\n",
    "    data_solution=np.array(data_solution)\n",
    "    data_vertex_pairs_sorted=data_solution[data_vertex_pairs]\n",
    "    \n",
    "    xpos=[0]\n",
    "    ypos=[0]\n",
    "    ROC_vals=[]\n",
    "    for ii in range(len(data_vertex_pairs_sorted)):\n",
    "        if data_vertex_pairs_sorted[ii]==1:\n",
    "            xpos.append(xpos[-1])\n",
    "            ypos.append(ypos[-1]+1)\n",
    "        if data_vertex_pairs_sorted[ii]==0:\n",
    "            xpos.append(xpos[-1]+1)\n",
    "            ypos.append(ypos[-1])      \n",
    "            ROC_vals.append(ypos[-1])\n",
    "    \n",
    "        # # # # # # # # # # # # # # # \n",
    "        # \n",
    "        # We normalize the ROC curve such that it starts at (0,0) and ends at (1,1).\n",
    "        # Then our final metric of interest is the Area under that curve.\n",
    "        # AUC is between [0,1].\n",
    "        # AUC = 0.5 is acchieved by random predictions\n",
    "        # AUC = 1.0 stands for perfect prediction.\n",
    "    \n",
    "    ROC_vals=np.array(ROC_vals)/max(ypos)\n",
    "    ypos=np.array(ypos)/max(ypos)\n",
    "    xpos=np.array(xpos)/max(xpos)\n",
    "    \n",
    "    plt.plot(xpos, ypos)\n",
    "    plt.show()\n",
    "    \n",
    "    AUC=sum(ROC_vals)/len(ROC_vals)\n",
    "    return AUC"
   ]
  },
  {
   "cell_type": "code",
   "execution_count": null,
   "metadata": {
    "execution": {
     "iopub.execute_input": "2021-11-25T14:25:56.935234Z",
     "iopub.status.busy": "2021-11-25T14:25:56.934577Z",
     "iopub.status.idle": "2021-11-25T14:25:56.939787Z",
     "shell.execute_reply": "2021-11-25T14:25:56.940277Z",
     "shell.execute_reply.started": "2021-11-21T05:00:47.492912Z"
    },
    "papermill": {
     "duration": 0.024337,
     "end_time": "2021-11-25T14:25:56.940456",
     "exception": false,
     "start_time": "2021-11-25T14:25:56.916119",
     "status": "completed"
    },
    "tags": []
   },
   "outputs": [],
   "source": [
    "\n",
    "preds_train = model.predict(train_iterator)\n",
    "preds_val = model.predict(validation_iterator)\n",
    "sorted_predictions_train=np.flip(np.argsort(preds_train,axis=0))\n",
    "sorted_predictions_val=np.flip(np.argsort(preds_val,axis=0))\n",
    "\n",
    "from sklearn.metrics import confusion_matrix\n",
    "print(confusion_matrix(y_train.astype(int),np.array([1 if elem>0.5 else 0 for elem in preds_train])))\n",
    "print(confusion_matrix(y_val.astype(int),np.array([1 if elem>0.5 else 0 for elem in preds_val])))\n",
    "\n",
    "\n",
    "AUC=calculate_ROC(sorted_predictions_train, y_train)\n",
    "print('Area Under Curve for Evaluation: ', AUC,'\\n\\n\\n')\n",
    "\n",
    "AUC=calculate_ROC(sorted_predictions_val, y_val)\n",
    "print('Area Under Curve for Evaluation: ', AUC,'\\n\\n\\n')\n"
   ]
  },
  {
   "cell_type": "code",
   "execution_count": null,
   "metadata": {
    "execution": {
     "iopub.execute_input": "2021-11-25T14:25:56.976386Z",
     "iopub.status.busy": "2021-11-25T14:25:56.975758Z",
     "iopub.status.idle": "2021-11-25T14:25:56.981560Z",
     "shell.execute_reply": "2021-11-25T14:25:56.982096Z",
     "shell.execute_reply.started": "2021-11-21T05:01:20.073661Z"
    },
    "papermill": {
     "duration": 0.025318,
     "end_time": "2021-11-25T14:25:56.982267",
     "exception": false,
     "start_time": "2021-11-25T14:25:56.956949",
     "status": "completed"
    },
    "tags": []
   },
   "outputs": [],
   "source": [
    "\n",
    "global indexer \n",
    "indexer = 0\n",
    "\n",
    "def func_test(numero):\n",
    "    global indexer\n",
    "    matrices_test = glob(path+numero+'/kaggle/working/*/*')\n",
    "    matrices_test.sort(key=func_aux)\n",
    "    matrices_adj_test = matrices_test[0::2]\n",
    "    matrices_x_test = matrices_test[1::2]\n",
    "    \n",
    "    \n",
    "    for cont,elem in enumerate(matrices_adj_test):\n",
    "        \n",
    "        if elem.split('/')[-1].split('_')[1] == 'x':\n",
    "            try:\n",
    "                matrices_adj_test[cont],matrices_x_test[cont] = matrices_x_test[cont],matrices_adj_test[cont]\n",
    "            except:\n",
    "                \n",
    "                print(\"error\")\n",
    "                break\n",
    "                \n",
    "    \n",
    "    targets_numero = targets_test[targets_test >= 0]\n",
    "    targets_numero = targets_numero[indexer:indexer+len(matrices_x_test)]\n",
    "    indexer = indexer + len(matrices_x_test)\n",
    "    test_iterator = Custom_Sequence(matrices_adj_test,matrices_x_test,targets_numero,1)\n",
    "    return test_iterator\n",
    "    \n",
    "\n",
    "targets_test = np.load(path+'targets_test.npy')\n",
    "lista = [func_test(\"cero\"),func_test(\"uno\"),func_test(\"dos\"),func_test(\"tres\"),func_test(\"cuatro\"),\n",
    "        func_test(\"cinco\"),func_test(\"seis\"),func_test(\"siete\"),func_test(\"ocho\"),\n",
    "        func_test(\"nueve\"),func_test(\"diez\")]"
   ]
  },
  {
   "cell_type": "code",
   "execution_count": null,
   "metadata": {
    "execution": {
     "iopub.execute_input": "2021-11-25T14:25:57.019055Z",
     "iopub.status.busy": "2021-11-25T14:25:57.018117Z",
     "iopub.status.idle": "2021-11-25T14:25:57.023256Z",
     "shell.execute_reply": "2021-11-25T14:25:57.023854Z",
     "shell.execute_reply.started": "2021-11-21T05:01:48.032817Z"
    },
    "papermill": {
     "duration": 0.025103,
     "end_time": "2021-11-25T14:25:57.024018",
     "exception": false,
     "start_time": "2021-11-25T14:25:56.998915",
     "status": "completed"
    },
    "tags": []
   },
   "outputs": [],
   "source": [
    "preds_finales = []\n",
    "for cont,test_iterator in enumerate(lista):\n",
    "    print(cont)\n",
    "    try:\n",
    "        preds_val = list(model.predict(test_iterator))\n",
    "    except:\n",
    "        continue\n",
    "    \n",
    "    preds_finales = preds_finales+preds_val\n"
   ]
  },
  {
   "cell_type": "code",
   "execution_count": null,
   "metadata": {
    "execution": {
     "iopub.execute_input": "2021-11-25T14:25:57.063205Z",
     "iopub.status.busy": "2021-11-25T14:25:57.062230Z",
     "iopub.status.idle": "2021-11-25T14:25:57.067750Z",
     "shell.execute_reply": "2021-11-25T14:25:57.068324Z",
     "shell.execute_reply.started": "2021-11-21T05:01:48.03455Z"
    },
    "papermill": {
     "duration": 0.02726,
     "end_time": "2021-11-25T14:25:57.068486",
     "exception": false,
     "start_time": "2021-11-25T14:25:57.041226",
     "status": "completed"
    },
    "tags": []
   },
   "outputs": [],
   "source": [
    "preds_finales = np.array(preds_finales)\n",
    "np.save(\"preds_finales\",preds_finales)\n",
    "targets_finales = targets_test.copy()\n",
    "targets_finales[targets_finales>=0] = preds_finales\n",
    "targets_finales[targets_finales<0] = 0\n",
    "sorted_predictions_eval=np.flip(np.argsort(targets_finales,axis=0))\n",
    "submit_file=\"model_all_idx\"+str(2017)+\"_\"+str(3)+\".json\"\n",
    "all_idx_list_float=list(map(float, sorted_predictions_eval))\n",
    "with open(submit_file, \"w\", encoding=\"utf8\") as json_file:\n",
    "    json.dump(all_idx_list_float, json_file)\n"
   ]
  }
 ],
 "metadata": {
  "kernelspec": {
   "display_name": "Python 3",
   "language": "python",
   "name": "python3"
  },
  "language_info": {
   "codemirror_mode": {
    "name": "ipython",
    "version": 3
   },
   "file_extension": ".py",
   "mimetype": "text/x-python",
   "name": "python",
   "nbconvert_exporter": "python",
   "pygments_lexer": "ipython3",
   "version": "3.7.9"
  },
  "papermill": {
   "default_parameters": {},
   "duration": 28.768652,
   "end_time": "2021-11-25T14:25:59.293477",
   "environment_variables": {},
   "exception": null,
   "input_path": "__notebook__.ipynb",
   "output_path": "__notebook__.ipynb",
   "parameters": {},
   "start_time": "2021-11-25T14:25:30.524825",
   "version": "2.3.3"
  }
 },
 "nbformat": 4,
 "nbformat_minor": 5
}
